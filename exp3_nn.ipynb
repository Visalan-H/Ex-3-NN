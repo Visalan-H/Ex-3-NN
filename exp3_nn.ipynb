{
  "nbformat": 4,
  "nbformat_minor": 0,
  "metadata": {
    "colab": {
      "provenance": []
    },
    "kernelspec": {
      "name": "python3",
      "display_name": "Python 3"
    },
    "language_info": {
      "name": "python"
    }
  },
  "cells": [
    {
      "cell_type": "code",
      "execution_count": null,
      "metadata": {
        "id": "AYExDldPiPpO"
      },
      "outputs": [],
      "source": [
        "import numpy as np\n",
        "import matplotlib.pyplot as plt"
      ]
    },
    {
      "cell_type": "code",
      "source": [
        "x=np.array([[0,0,1,1],[0,1,0,1]])\n",
        "y=np.array([[0,1,1,0]])"
      ],
      "metadata": {
        "id": "kfjh5m3QiYg5"
      },
      "execution_count": null,
      "outputs": []
    },
    {
      "cell_type": "code",
      "source": [
        "n_x = 2\n",
        "n_y = 1\n",
        "n_h = 2"
      ],
      "metadata": {
        "id": "1h3Fw0S6igVL"
      },
      "execution_count": null,
      "outputs": []
    },
    {
      "cell_type": "code",
      "source": [
        "m = x.shape[1]\n",
        "lr = 0.1\n",
        "np.random.seed(2)\n",
        "w1 = np.random.rand(n_h,n_x)\n",
        "w2 = np.random.rand(n_y,n_h)"
      ],
      "metadata": {
        "id": "xR-wpxogiic3"
      },
      "execution_count": null,
      "outputs": []
    },
    {
      "cell_type": "code",
      "source": [
        "losses=[]"
      ],
      "metadata": {
        "id": "yR7TbM1Misz_"
      },
      "execution_count": null,
      "outputs": []
    },
    {
      "cell_type": "code",
      "source": [
        "def sigmoid(z):\n",
        "    z= 1/(1+np.exp(-z))\n",
        "    return z"
      ],
      "metadata": {
        "id": "R_J0arIokHQd"
      },
      "execution_count": null,
      "outputs": []
    },
    {
      "cell_type": "code",
      "source": [
        "def forward_prop(w1,w2,x):\n",
        "    z1 = np.dot(w1,x)\n",
        "    a1 = sigmoid(z1)\n",
        "    z2 = np.dot(w2,a1)\n",
        "    a2 = sigmoid(z2)\n",
        "    return z1,a1,z2,a2"
      ],
      "metadata": {
        "id": "sHRUhskTkKtf"
      },
      "execution_count": null,
      "outputs": []
    },
    {
      "cell_type": "code",
      "source": [
        "def back_prop(m,w1,w2,z1,a1,z2,a2,y):\n",
        "    dz2 = a2-y\n",
        "    dw2 = np.dot(dz2,a1.T)/m\n",
        "    dz1 = np.dot(w2.T,dz2) * a1*(1-a1)\n",
        "    dw1 = np.dot(dz1,x.T)/m\n",
        "    dw1 = np.reshape(dw1,w1.shape)\n",
        "    dw2 = np.reshape(dw2,w2.shape)\n",
        "    return dz2,dw2,dz1,dw1"
      ],
      "metadata": {
        "id": "mvs4dOxNkNcQ"
      },
      "execution_count": null,
      "outputs": []
    },
    {
      "cell_type": "code",
      "source": [
        "iterations=1000\n",
        "for i in range(iterations):\n",
        "    z1,a1,z2,a2 = forward_prop(w1,w2,x)\n",
        "    loss = -(1/m)*np.sum(y*np.log(a2)+(1-y)*np.log(1-a2))\n",
        "    losses.append(loss)\n",
        "    da2,dw2,dz1,dw1 = back_prop(m,w1,w2,z1,a1,z2,a2,y)\n",
        "    w2 = w2-lr*dw2\n",
        "    w1 = w1-lr*dw1"
      ],
      "metadata": {
        "id": "XNPPCJLDkO9-"
      },
      "execution_count": null,
      "outputs": []
    },
    {
      "cell_type": "code",
      "source": [
        "plt.plot(losses)\n",
        "plt.xlabel(\"EPOCHS\")\n",
        "plt.ylabel(\"Loss value\")"
      ],
      "metadata": {
        "colab": {
          "base_uri": "https://localhost:8080/",
          "height": 467
        },
        "id": "rYecRP8uliEt",
        "outputId": "71eea7cc-565e-44a0-db8f-a16442e56b65"
      },
      "execution_count": null,
      "outputs": [
        {
          "output_type": "execute_result",
          "data": {
            "text/plain": [
              "Text(0, 0.5, 'Loss value')"
            ]
          },
          "metadata": {},
          "execution_count": 12
        },
        {
          "output_type": "display_data",
          "data": {
            "text/plain": [
              "<Figure size 640x480 with 1 Axes>"
            ],
            "image/png": "[encoded data removed]"
          },
          "metadata": {}
        }
      ]
    },
    {
      "cell_type": "code",
      "source": [
        "def predict(w1,w2,input):\n",
        "    z1,a1,z2,a2 = forward_prop(w1,w2,test)\n",
        "    a2 = np.squeeze(a2)\n",
        "    if a2>=0.5:\n",
        "        print( [i[0] for i in input], 1)\n",
        "    else:\n",
        "        print( [i[0] for i in input], 0)"
      ],
      "metadata": {
        "id": "OqQwuywVliad"
      },
      "execution_count": null,
      "outputs": []
    },
    {
      "cell_type": "code",
      "source": [
        "print('Input',' Output')\n",
        "test=np.array([[1],[0]])\n",
        "predict(w1,w2,test)\n",
        "test=np.array([[1],[1]])\n",
        "predict(w1,w2,test)\n",
        "test=np.array([[0],[1]])\n",
        "predict(w1,w2,test)\n",
        "test=np.array([[0],[0]])\n",
        "predict(w1,w2,test)"
      ],
      "metadata": {
        "id": "2mDI62ZrllVN",
        "outputId": "482a6018-922f-47c4-db63-f3232e30979d",
        "colab": {
          "base_uri": "https://localhost:8080/"
        }
      },
      "execution_count": null,
      "outputs": [
        {
          "output_type": "stream",
          "name": "stdout",
          "text": [
            "Input  Output\n",
            "[np.int64(1), np.int64(0)] 1\n",
            "[np.int64(1), np.int64(1)] 1\n",
            "[np.int64(0), np.int64(1)] 1\n",
            "[np.int64(0), np.int64(0)] 1\n"
          ]
        }
      ]
    },
    {
      "cell_type": "code",
      "source": [],
      "metadata": {
        "id": "SbedMcpvlmm4"
      },
      "execution_count": null,
      "outputs": []
    }
  ]
}